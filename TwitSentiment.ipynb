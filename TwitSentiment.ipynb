{
  "nbformat": 4,
  "nbformat_minor": 0,
  "metadata": {
    "colab": {
      "provenance": [],
      "collapsed_sections": [],
      "authorship_tag": "ABX9TyNVLdfzW+HQ81H8Xtn4E65I",
      "include_colab_link": true
    },
    "kernelspec": {
      "name": "python3",
      "display_name": "Python 3"
    },
    "language_info": {
      "name": "python"
    }
  },
  "cells": [
    {
      "cell_type": "markdown",
      "metadata": {
        "id": "view-in-github",
        "colab_type": "text"
      },
      "source": [
        "<a href=\"https://colab.research.google.com/github/michaelMondoro/tweet_lens/blob/main/TwitSentiment.ipynb\" target=\"_parent\"><img src=\"https://colab.research.google.com/assets/colab-badge.svg\" alt=\"Open In Colab\"/></a>"
      ]
    },
    {
      "cell_type": "code",
      "execution_count": 102,
      "metadata": {
        "id": "BRgWYm5f_KtO"
      },
      "outputs": [],
      "source": [
        "import nltk\n",
        "# nltk.download('twitter_samples')\n",
        "# nltk.download('punkt')\n",
        "from nltk.corpus import twitter_samples\n",
        "from sklearn.metrics import confusion_matrix\n",
        "from sklearn import metrics\n",
        "import matplotlib.pyplot as plt"
      ]
    },
    {
      "cell_type": "code",
      "source": [
        "positive_tweets = twitter_samples.strings('positive_tweets.json')\n",
        "negative_tweets = twitter_samples.strings('negative_tweets.json')\n",
        "total = twitter_samples.strings('tweets.20150430-223406.json')"
      ],
      "metadata": {
        "id": "uiX7RWxP_VUR"
      },
      "execution_count": 91,
      "outputs": []
    },
    {
      "cell_type": "code",
      "source": [
        "# Packages to test \n",
        "# vaderSentiment, textblob, nltk\n",
        "\n",
        "# https://towardsdatascience.com/accuracy-precision-recall-or-f1-331fb37c5cb9"
      ],
      "metadata": {
        "id": "W483c_5PCxfY"
      },
      "execution_count": 18,
      "outputs": []
    },
    {
      "cell_type": "code",
      "source": [
        "# NLTK\n",
        "# =====\n",
        "def test_nltk():\n",
        "  from nltk.sentiment import SentimentIntensityAnalyzer\n",
        "  analyzer = SentimentIntensityAnalyzer()\n",
        "  test = [1 for i in range(5000)] \n",
        "  test += [0 for i in range(5000)] \n",
        "  pred = []\n",
        "\n",
        "  # Test Positive Tweets\n",
        "  i = 0\n",
        "  for tweet in positive_tweets:\n",
        "    if analyzer.polarity_scores(tweet)['compound'] > 0:\n",
        "      i+=1\n",
        "      pred.append(1)\n",
        "    else:\n",
        "      pred.append(0)\n",
        "\n",
        "\n",
        "  # Test negative Tweets\n",
        "  for tweet in negative_tweets:\n",
        "    if analyzer.polarity_scores(tweet)['compound'] < 0:\n",
        "      i+=1\n",
        "      pred.append(0)\n",
        "    else:\n",
        "      pred.append(1)\n",
        "\n",
        "  cm = confusion_matrix(test,pred)\n",
        "  cm_display = metrics.ConfusionMatrixDisplay(confusion_matrix=cm, display_labels = ['Pos', 'Neg'])\n",
        "\n",
        "  cm_display.plot()\n",
        "  plt.show()\n",
        "  score = round(i/10000*100,2)\n",
        "  print(f\"{round(metrics.precision_score(test,pred),2)} precision score\")\n",
        "  print(f\"{round(metrics.recall_score(test,pred),2)} recall score\")\n",
        "  print(f\"{round(metrics.f1_score(test,pred),2)} F1 score\")\n",
        "  print(f\"{score}% accuracy\")\n",
        "\n"
      ],
      "metadata": {
        "id": "A09GEPuU_-ET"
      },
      "execution_count": 132,
      "outputs": []
    },
    {
      "cell_type": "code",
      "source": [
        "# textblob\n",
        "# ========\n",
        "def test_textblob():\n",
        "  from textblob import TextBlob\n",
        "  test = [1 for i in range(5000)] \n",
        "  test += [0 for i in range(5000)] \n",
        "  pred = []\n",
        "\n",
        "  # Test positive tweets\n",
        "  i = 0\n",
        "  for tweet in positive_tweets:\n",
        "    blob = TextBlob(tweet)\n",
        "    if blob.polarity > 0:\n",
        "        i+=1\n",
        "        pred.append(1)\n",
        "    else:\n",
        "      pred.append(0)\n",
        "\n",
        "  # Test negative tweets\n",
        "  for tweet in negative_tweets:\n",
        "    blob = TextBlob(tweet)\n",
        "    if blob.polarity < 0:\n",
        "        i += 1\n",
        "        pred.append(0)\n",
        "    else:\n",
        "      pred.append(1)\n",
        "    \n",
        "  cm = confusion_matrix(test,pred)\n",
        "  cm_display = metrics.ConfusionMatrixDisplay(confusion_matrix=cm, display_labels = ['Pos', 'Neg'])\n",
        "\n",
        "  cm_display.plot()\n",
        "  plt.show()\n",
        "\n",
        "  score = round(i/10000*100,2)\n",
        "  print(f\"{round(metrics.precision_score(test,pred),2)} precision score\")\n",
        "  print(f\"{round(metrics.recall_score(test,pred),2)} recall score\")\n",
        "  print(f\"{round(metrics.f1_score(test,pred),2)} F1 score\")\n",
        "  print(f\"{score}% accuracy\")"
      ],
      "metadata": {
        "id": "Nv6e5D0DFuo3"
      },
      "execution_count": 133,
      "outputs": []
    },
    {
      "cell_type": "code",
      "source": [
        ", precision_score\n",
        "# vader\n",
        "# ========\n",
        "def test_vader():\n",
        "  from vaderSentiment.vaderSentiment import SentimentIntensityAnalyzer\n",
        "  analyzer = SentimentIntensityAnalyzer()\n",
        "  test = [1 for i in range(5000)] \n",
        "  test += [0 for i in range(5000)] \n",
        "  pred = []\n",
        "\n",
        "  # Test Positive Tweets\n",
        "  i = 0\n",
        "  for tweet in positive_tweets:\n",
        "    if analyzer.polarity_scores(tweet)['compound'] > 0:\n",
        "      i+=1\n",
        "      pred.append(1)\n",
        "    else:\n",
        "      pred.append(0)\n",
        "\n",
        "\n",
        "  # Test negative Tweets\n",
        "  for tweet in negative_tweets:\n",
        "    if analyzer.polarity_scores(tweet)['compound'] < 0:\n",
        "      i+=1\n",
        "      pred.append(0)\n",
        "    else:\n",
        "      pred.append(1)\n",
        "\n",
        "  score = round(i/10000*100,2)\n",
        "  cm = confusion_matrix(test,pred)\n",
        "  cm_display = metrics.ConfusionMatrixDisplay(confusion_matrix=cm, display_labels = ['Pos', 'Neg'])\n",
        "\n",
        "  cm_display.plot()\n",
        "  plt.show()\n",
        "  print(f\"{round(metrics.precision_score(test,pred),2)} precision score\")\n",
        "  print(f\"{round(metrics.recall_score(test,pred),2)} recall score\")\n",
        "  print(f\"{round(metrics.f1_score(test,pred),2)} F1 score\")\n",
        "  print(f\"{score}% accuracy\")"
      ],
      "metadata": {
        "id": "RPEnJUlPIV_k"
      },
      "execution_count": 134,
      "outputs": []
    },
    {
      "cell_type": "code",
      "source": [
        "test_nltk()\n",
        "test_textblob()\n",
        "test_vader()"
      ],
      "metadata": {
        "colab": {
          "base_uri": "https://localhost:8080/",
          "height": 1000
        },
        "id": "-K92W5ySIX2G",
        "outputId": "3fe137ad-6a2f-4f13-c8ea-dce93a5332f0"
      },
      "execution_count": 135,
      "outputs": [
        {
          "output_type": "display_data",
          "data": {
            "text/plain": [
              "<Figure size 432x288 with 2 Axes>"
            ],
            "image/png": "[encoded data removed]"
          },
          "metadata": {
            "needs_background": "light"
          }
        },
        {
          "output_type": "stream",
          "name": "stdout",
          "text": [
            "0.76 precision score\n",
            "0.92 recall score\n",
            "0.83 F1 score\n",
            "81.53% accuracy\n"
          ]
        },
        {
          "output_type": "display_data",
          "data": {
            "text/plain": [
              "<Figure size 432x288 with 2 Axes>"
            ],
            "image/png": "[encoded data removed]"
          },
          "metadata": {
            "needs_background": "light"
          }
        },
        {
          "output_type": "stream",
          "name": "stdout",
          "text": [
            "0.95 precision score\n",
            "0.98 recall score\n",
            "0.97 F1 score\n",
            "96.45% accuracy\n"
          ]
        },
        {
          "output_type": "display_data",
          "data": {
            "text/plain": [
              "<Figure size 432x288 with 2 Axes>"
            ],
            "image/png": "[encoded data removed]"
          },
          "metadata": {
            "needs_background": "light"
          }
        },
        {
          "output_type": "stream",
          "name": "stdout",
          "text": [
            "0.75 precision score\n",
            "0.92 recall score\n",
            "0.82 F1 score\n",
            "80.37% accuracy\n"
          ]
        }
      ]
    },
    {
      "cell_type": "code",
      "source": [],
      "metadata": {
        "id": "msz9PjWQQUev"
      },
      "execution_count": null,
      "outputs": []
    }
  ]
}